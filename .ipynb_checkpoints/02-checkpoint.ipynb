{
 "cells": [
  {
   "cell_type": "code",
   "execution_count": 6,
   "metadata": {},
   "outputs": [
    {
     "name": "stdout",
     "output_type": "stream",
     "text": [
      "请输入圆的半径: 2\n",
      "周长是12.56 \n",
      "面积是12.560000\n"
     ]
    }
   ],
   "source": [
    "\"\"\"\n",
    "输入圆的半径求得圆的周长和面积\n",
    "\n",
    "date: 2019.7.15\n",
    "\"\"\"\n",
    "r = float(input('请输入圆的半径: '))\n",
    "cir = 2 * 3.14 * r\n",
    "area = 3.14 * r * r\n",
    "print('周长是%.2f \\n面积是%f'%(cir,area))\n",
    "\n"
   ]
  },
  {
   "cell_type": "code",
   "execution_count": 4,
   "metadata": {},
   "outputs": [
    {
     "name": "stdout",
     "output_type": "stream",
     "text": [
      "请输入圆的半径:\n",
      "2\n",
      "周长是 12.57\n",
      "面积是 12.57\n"
     ]
    }
   ],
   "source": [
    "'''\n",
    "输入圆的半径求得圆的周长和面积\n",
    "\n",
    "'''\n",
    "import math#使用pi的时候可以直接导入\n",
    "\n",
    "r = float(input('请输入圆的半径:\\n'))\n",
    "\n",
    "cir = 2 * math.pi * r\n",
    "area = math.pi * r * r\n",
    "print('周长是 %.2f' %cir)\n",
    "print('面积是 %.2f' %area)#给变量取名字的时候尽量用英语"
   ]
  },
  {
   "cell_type": "code",
   "execution_count": 8,
   "metadata": {},
   "outputs": [
    {
     "name": "stdout",
     "output_type": "stream",
     "text": [
      "请输入年份:\n",
      "2000\n",
      "True\n"
     ]
    }
   ],
   "source": [
    "'''\n",
    "输入年份判断是否是闰年\n",
    "\n",
    "自己写的/对着老师的改得\n",
    "date: 2019-7-16\n",
    "'''\n",
    "year = int(input('请输入年份:\\n'))\n",
    "\"\"\"\n",
    "怎样判断是否是闰年?\n",
    "能够被四整除,但是不能被100整除/只能被400整除\n",
    "\"\"\"\n",
    "is_leap = (year % 400 == 0 or year % 4 == 0 and year % 100 != 0)#and or 返回的值是布尔值\n",
    "\n",
    "print(is_leap)\n"
   ]
  },
  {
   "cell_type": "code",
   "execution_count": null,
   "metadata": {},
   "outputs": [],
   "source": []
  }
 ],
 "metadata": {
  "kernelspec": {
   "display_name": "Python 3",
   "language": "python",
   "name": "python3"
  },
  "language_info": {
   "codemirror_mode": {
    "name": "ipython",
    "version": 3
   },
   "file_extension": ".py",
   "mimetype": "text/x-python",
   "name": "python",
   "nbconvert_exporter": "python",
   "pygments_lexer": "ipython3",
   "version": "3.7.0"
  }
 },
 "nbformat": 4,
 "nbformat_minor": 2
}
