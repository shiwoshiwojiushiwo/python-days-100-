{
 "cells": [
  {
   "cell_type": "code",
   "execution_count": 3,
   "metadata": {},
   "outputs": [
    {
     "name": "stdout",
     "output_type": "stream",
     "text": [
      "5050\n"
     ]
    }
   ],
   "source": [
    "'''\n",
    "用for循环 计算1-100的和\n",
    "'''\n",
    "sum = 0\n",
    "for x in range(101):\n",
    "    sum += x\n",
    "    \n",
    "print(sum)\n",
    "#关于range()\n",
    "help(range)"
   ]
  },
  {
   "cell_type": "code",
   "execution_count": 5,
   "metadata": {},
   "outputs": [
    {
     "name": "stdout",
     "output_type": "stream",
     "text": [
      "2550\n"
     ]
    }
   ],
   "source": [
    "'''\n",
    "用 for循环 求100以内偶数的和\n",
    "'''\n",
    "sum = 0\n",
    "\n",
    "for x in range(2,101,2):\n",
    "    sum += x\n",
    "    \n",
    "print(sum)"
   ]
  },
  {
   "cell_type": "code",
   "execution_count": 1,
   "metadata": {},
   "outputs": [
    {
     "name": "stdout",
     "output_type": "stream",
     "text": [
      "请猜一下数字:50\n",
      "猜小了\n",
      "请猜一下数字:75\n",
      "猜大了\n",
      "请猜一下数字:60\n",
      "猜小了\n",
      "请猜一下数字:70\n",
      "猜大了\n",
      "请猜一下数字:65\n",
      "猜小了\n",
      "请猜一下数字:67\n",
      "猜小了\n",
      "请猜一下数字:68\n",
      "bingo!68\n",
      "你总共猜了7次\n"
     ]
    }
   ],
   "source": [
    "'''\n",
    "while 循环,什么时候用while循环呢? 不知道循环多少次的时候\n",
    "\n",
    "猜数游戏:\n",
    "随机生成1-100的数字,由人来猜\n",
    "要提醒是猜大了,还是猜小了\n",
    "'''\n",
    "\n",
    "import random\n",
    "result =random.randint(1,100)\n",
    "counter = 0\n",
    "while True:\n",
    "    counter += 1\n",
    "    number = int(input('请猜一下数字:'))\n",
    "    if number > result:\n",
    "        print('猜大了')\n",
    "    elif number < result:\n",
    "        print('猜小了')\n",
    "    else:\n",
    "        print('bingo!%d' %result)\n",
    "        break\n",
    "print('你总共猜了%d次' %counter)\n",
    "\n",
    "\n"
   ]
  },
  {
   "cell_type": "code",
   "execution_count": 5,
   "metadata": {},
   "outputs": [
    {
     "name": "stdout",
     "output_type": "stream",
     "text": [
      "1*1=1\t\n",
      "2*1=2\t2*2=4\t\n",
      "3*1=3\t3*2=6\t3*3=9\t\n",
      "4*1=4\t4*2=8\t4*3=12\t4*4=16\t\n",
      "5*1=5\t5*2=10\t5*3=15\t5*4=20\t5*5=25\t\n",
      "6*1=6\t6*2=12\t6*3=18\t6*4=24\t6*5=30\t6*6=36\t\n",
      "7*1=7\t7*2=14\t7*3=21\t7*4=28\t7*5=35\t7*6=42\t7*7=49\t\n",
      "8*1=8\t8*2=16\t8*3=24\t8*4=32\t8*5=40\t8*6=48\t8*7=56\t8*8=64\t\n",
      "9*1=9\t9*2=18\t9*3=27\t9*4=36\t9*5=45\t9*6=54\t9*7=63\t9*8=72\t9*9=81\t\n"
     ]
    }
   ],
   "source": [
    "'''\n",
    "输出九九乘法表\n",
    "\n",
    "怎么会是自己写的呢? 哼!\n",
    "date: 2019-7-19\n",
    "'''\n",
    "for i in range(1,10):\n",
    "    for j in range(1,i+1):\n",
    "        print('%d*%d=%d' %(i,j,i*j),end = '\\t')#不准换行\n",
    "    print()#换行"
   ]
  },
  {
   "cell_type": "code",
   "execution_count": 19,
   "metadata": {},
   "outputs": [
    {
     "name": "stdout",
     "output_type": "stream",
     "text": [
      "请输入一个正整数:4\n",
      "4 is not a prime\n"
     ]
    }
   ],
   "source": [
    "'''\n",
    "输入一个正整数,判断是否是素数\n",
    "\n",
    "date:2019-7-19\n",
    "'''\n",
    "#判断是否是素数的方法有很多,此次用带根号的那个\n",
    "\n",
    "#import math\n",
    "\n",
    "#num = int(input('请输入一个正整数:'))\n",
    "\n",
    "#for i in range(2,int(math.sqrt(num))+1):\n",
    " #   if num % i == 0:\n",
    "  #      print('%d is not prime' %num)\n",
    "    #else:\n",
    "     #   print('%d is prime' %num) ko!\n",
    "'''\n",
    "看了师傅的思路自己又写一遍\n",
    "天黑了\n",
    "撤了\n",
    "'''\n",
    "from math import sqrt\n",
    "\n",
    "num = int(input('请输入一个正整数:'))\n",
    "end = int(sqrt(num))\n",
    "is_prime = True\n",
    "\n",
    "for i in range(2, end + 1):\n",
    "    if num % i == 0:\n",
    "        is_prime = False\n",
    "        \n",
    "if is_prime == True:\n",
    "    print('%d is a prime' % num)\n",
    "else:\n",
    "    print('%d is not a prime' % num)"
   ]
  },
  {
   "cell_type": "code",
   "execution_count": 1,
   "metadata": {},
   "outputs": [
    {
     "name": "stdout",
     "output_type": "stream",
     "text": [
      "x = 15\n",
      "y = 12\n",
      "15 and 12 的最大公约数是3\n",
      "15 and 12 的最小公倍数是60\n"
     ]
    }
   ],
   "source": [
    "\"\"\"\n",
    "输入两个正整数 计算最大公约数和最小公倍数\n",
    "辗转相除法\n",
    "date: 2019-7-20\n",
    "\"\"\"\n",
    "\n",
    "x = int(input('x = '))\n",
    "y = int(input('y = '))\n",
    "\n",
    "if x < y:\n",
    "    x, y = y, x #相比之下tmd太简便了吧\n",
    "    \n",
    "for i in range(x, 0, -1):\n",
    "    if x % i == 0 and y % i == 0:\n",
    "        print('%d and %d 的最大公约数是%d' %(x, y, i))\n",
    "        print('%d and %d 的最小公倍数是%d' %(x, y, x * y // i))#//是整数除法\n",
    "        break\n",
    "    "
   ]
  },
  {
   "cell_type": "code",
   "execution_count": 5,
   "metadata": {},
   "outputs": [
    {
     "name": "stdout",
     "output_type": "stream",
     "text": [
      "*\n",
      "**\n",
      "***\n",
      "****\n",
      "*****\n"
     ]
    }
   ],
   "source": [
    "'''\n",
    "打印各种三角形\n",
    "\n",
    "*\n",
    "**\n",
    "***\n",
    "****\n",
    "*****\n",
    "\n",
    "*****\n",
    "****\n",
    "***\n",
    "**\n",
    "*\n",
    "  *\n",
    " ***\n",
    "*****\n",
    "\n",
    "Author : 作者不是我\n",
    "date: 2019-7-20\n",
    "'''\n",
    "for i in range(1,6):\n",
    "    for j in range(1,i+1):\n",
    "        print('*',end ='')\n",
    "    print()         #yaho 第一次写就对了,好吧,没啥 值得骄傲的"
   ]
  },
  {
   "cell_type": "code",
   "execution_count": 9,
   "metadata": {},
   "outputs": [
    {
     "name": "stdout",
     "output_type": "stream",
     "text": [
      "*****\n",
      "****\n",
      "***\n",
      "**\n",
      "*\n"
     ]
    }
   ],
   "source": [
    "'''\n",
    "*****\n",
    "****\n",
    "***\n",
    "**\n",
    "*\n",
    "'''\n",
    "end = 7\n",
    "for i in range(1,6):\n",
    "    for j in range(1,end - i):\n",
    "        print('*', end = '')\n",
    "    print() #虽然感觉好傻雕的做法,但是好歹写出来了"
   ]
  },
  {
   "cell_type": "code",
   "execution_count": 13,
   "metadata": {},
   "outputs": [
    {
     "name": "stdout",
     "output_type": "stream",
     "text": [
      "    *\n",
      "   ***\n",
      "  *****\n",
      " *******\n",
      "*********\n"
     ]
    }
   ],
   "source": [
    "'''\n",
    "  *\n",
    " ***\n",
    "*****\n",
    "'''\n",
    "row = 5\n",
    "for i in range(row):\n",
    "    for k in range(row - 1 - i):\n",
    "        print(end = \" \")\n",
    "    for j in range(2 * i + 1):\n",
    "        print('*', end = '')\n",
    "    print()"
   ]
  },
  {
   "cell_type": "code",
   "execution_count": null,
   "metadata": {},
   "outputs": [],
   "source": [
    "#总结: 就是for循环嵌套"
   ]
  }
 ],
 "metadata": {
  "kernelspec": {
   "display_name": "Python 3",
   "language": "python",
   "name": "python3"
  },
  "language_info": {
   "codemirror_mode": {
    "name": "ipython",
    "version": 3
   },
   "file_extension": ".py",
   "mimetype": "text/x-python",
   "name": "python",
   "nbconvert_exporter": "python",
   "pygments_lexer": "ipython3",
   "version": "3.7.0"
  }
 },
 "nbformat": 4,
 "nbformat_minor": 2
}
