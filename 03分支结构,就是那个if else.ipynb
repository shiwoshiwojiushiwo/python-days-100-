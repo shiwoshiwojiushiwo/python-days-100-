{
 "cells": [
  {
   "cell_type": "code",
   "execution_count": null,
   "metadata": {},
   "outputs": [],
   "source": [
    "\"\"\"\n",
    "验证身份\n",
    "\n",
    "Author:自己\n",
    "看了师傅写的之后,自己写的\n",
    "自己写的不对,比着师傅的改得\n",
    "\n",
    "date: 2019-7-16\n",
    "\"\"\"\n",
    "admir = input('请输入用户名:')\n",
    "password = input('请输入口令:')\n",
    "#如果希望密码不被显示出来,导入getpass\n",
    "#import getpass\n",
    "#password = getpass.getpass('请输入口令:')\n",
    "\n",
    "if admir == 'admir' and password == '123456':\n",
    "    print('身份验证正确')\n",
    "else:\n",
    "    print('身份验证错误')"
   ]
  },
  {
   "cell_type": "code",
   "execution_count": null,
   "metadata": {},
   "outputs": [],
   "source": [
    "\"\"\"\n",
    "分段函数求值\n",
    "\n",
    "3x-5 x>1\n",
    "x+2 -1<=x<=1\n",
    "5x+3 x<-1\n",
    "\n",
    "by 自己写的,算了,自己写的不对,看得师傅的\n",
    "\"\"\"\n",
    "x = float(input('请输入x的值:'))\n",
    "if x > 1:\n",
    "    y = 3 * x - 5\n",
    "elif  x >= -1 and x <= 1:#是elif!!!\n",
    "    y = x + 2 \n",
    "else:\n",
    "    y = 5 * x + 3\n",
    "    \n",
    "print('y = %.2f' %y)"
   ]
  },
  {
   "cell_type": "code",
   "execution_count": 2,
   "metadata": {},
   "outputs": [
    {
     "name": "stdout",
     "output_type": "stream",
     "text": [
      "请输入x的值: 3\n",
      "y = 4.00\n"
     ]
    }
   ],
   "source": [
    "\"\"\"\n",
    "分段求函数\n",
    "但是这次是嵌套的,我累了,饿了,下楼了\n",
    "\n",
    "3x-5 x>1\n",
    "x+2 -1<=x<=1\n",
    "5x+3 x<-1\n",
    "\n",
    "date: 2019-7-18\n",
    "\"\"\"\n",
    "x = float(input('请输入x的值: '))\n",
    "if x > 1:\n",
    "    y = 3 * x - 5\n",
    "else:\n",
    "    if x > -1:\n",
    "        y = x + 2\n",
    "    else:\n",
    "        y = 5 * x + 3\n",
    "print('y = %.2f' %(y))\n",
    "#扁平化更好,因为python是缩进\n"
   ]
  },
  {
   "cell_type": "code",
   "execution_count": 3,
   "metadata": {},
   "outputs": [
    {
     "name": "stdout",
     "output_type": "stream",
     "text": [
      "请输入英寸:1\n",
      "1.00inch = 2.54cm\n"
     ]
    }
   ],
   "source": [
    "\"\"\"\n",
    "英制单位英寸和公制单位厘米互换\n",
    "1英寸 = 2.54 cm\n",
    " \n",
    "写的不符合题意,\n",
    "date : 2019-7-18\n",
    "\"\"\"\n",
    "inch = float(input('请输入英寸:'))\n",
    "cm = 2.54 * inch\n",
    "print(\"%.2finch = %.2fcm\" %(inch,cm))\n"
   ]
  },
  {
   "cell_type": "code",
   "execution_count": 7,
   "metadata": {},
   "outputs": [
    {
     "name": "stdout",
     "output_type": "stream",
     "text": [
      "请输入数值:2\n",
      "请输入单位;.\n",
      "请输入正确的单位!\n"
     ]
    }
   ],
   "source": [
    "'''\n",
    "英制单位英寸和公制单位厘米互换\n",
    "1英寸 = 2.54 cm\n",
    "\n",
    "参考师傅的\n",
    "date: 2019-7-18\n",
    "'''\n",
    "value = float(input('请输入数值:'))\n",
    "unit = input('请输入单位;')\n",
    "\n",
    "if unit == 'cm' or unit == '厘米':\n",
    "    print('%.2fcm = %.2finch' %(value,value/2.54))\n",
    "elif unit == 'inch' or unit == '英寸':\n",
    "    print('%.2fcm = %.2finch' %(value,value*2.54))\n",
    "else:\n",
    "    print('请输入正确的单位!')"
   ]
  },
  {
   "cell_type": "code",
   "execution_count": 15,
   "metadata": {},
   "outputs": [
    {
     "name": "stdout",
     "output_type": "stream",
     "text": [
      "上厕所\n"
     ]
    }
   ],
   "source": [
    "'''\n",
    "掷色子决定做什么\n",
    "\n",
    "参考师傅的\n",
    "\n",
    "'''\n",
    "from random import randint\n",
    "\n",
    "face = randint(1,6)\n",
    "\n",
    "if face == 1:\n",
    "    result = '唱歌'\n",
    "elif face == 2:\n",
    "    result = '跳个舞'\n",
    "elif face == 3:\n",
    "    result = '洗个澡'\n",
    "elif face == 4:\n",
    "    result = '刷个牙'\n",
    "elif face == 5:\n",
    "    result = '上厕所'\n",
    "else :\n",
    "    result = '打游戏'\n",
    "\n",
    "print(result)   "
   ]
  },
  {
   "cell_type": "code",
   "execution_count": 17,
   "metadata": {},
   "outputs": [
    {
     "name": "stdout",
     "output_type": "stream",
     "text": [
      "请输入您的成绩:90\n",
      "对应的等级是:  A\n"
     ]
    }
   ],
   "source": [
    "'''\n",
    "百分制成绩转化为等级制成绩\n",
    "90以上 ------  A\n",
    "80~90 ------- B\n",
    "70-80 ------- C\n",
    "60~70 ------- D\n",
    "60以下 --------E\n",
    "\n",
    "根据老师的进行优化\n",
    "'''\n",
    "score = float(input('请输入您的成绩:'))\n",
    "\n",
    "if score >= 90:\n",
    "    grade = 'A'\n",
    "elif score >= 80:\n",
    "    grade = 'B'\n",
    "elif score >= 70:\n",
    "    grade = 'C'\n",
    "elif score >= 60:\n",
    "    grade = 'D'\n",
    "else:\n",
    "    grade = 'E'\n",
    "\n",
    "print('对应的等级是: ',grade)"
   ]
  },
  {
   "cell_type": "code",
   "execution_count": 25,
   "metadata": {},
   "outputs": [
    {
     "name": "stdout",
     "output_type": "stream",
     "text": [
      "a = 3\n",
      "b = 3\n",
      "c =3\n",
      "周长是9.00, 面积是3.90\n"
     ]
    }
   ],
   "source": [
    "'''\n",
    "输入三条边长,如果可以构成三角形就计算周长和面积\n",
    "\n",
    "先判断三条边的大小 x\n",
    "任意两边之和大于第三边\n",
    "Author: 参考师傅\n",
    "'''\n",
    "import math\n",
    "a = float(input('a = '))\n",
    "b = float(input('b = '))\n",
    "c = float(input('c ='))\n",
    "\n",
    "if a + b > c and a + c > b and b + c > a:\n",
    "    per = a + b + c\n",
    "    p = per / 2\n",
    "    area = math.sqrt(p * (p - a) * (p - b) * (p - c))#海伦公式\n",
    "    print('周长是%.2f, 面积是%.2f' %(per,area))\n",
    "else:\n",
    "    print('不能构成三角形')"
   ]
  },
  {
   "cell_type": "code",
   "execution_count": 26,
   "metadata": {},
   "outputs": [
    {
     "data": {
      "text/plain": [
       "'\\n个人所得税计算器\\n太长了,下一个\\n'"
      ]
     },
     "execution_count": 26,
     "metadata": {},
     "output_type": "execute_result"
    }
   ],
   "source": [
    "'''\n",
    "个人所得税计算器\n",
    "太长了,下一个\n",
    "'''"
   ]
  },
  {
   "cell_type": "code",
   "execution_count": null,
   "metadata": {},
   "outputs": [],
   "source": []
  }
 ],
 "metadata": {
  "kernelspec": {
   "display_name": "Python 3",
   "language": "python",
   "name": "python3"
  },
  "language_info": {
   "codemirror_mode": {
    "name": "ipython",
    "version": 3
   },
   "file_extension": ".py",
   "mimetype": "text/x-python",
   "name": "python",
   "nbconvert_exporter": "python",
   "pygments_lexer": "ipython3",
   "version": "3.7.0"
  }
 },
 "nbformat": 4,
 "nbformat_minor": 2
}
