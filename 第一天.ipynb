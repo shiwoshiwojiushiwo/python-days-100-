{
 "cells": [
  {
   "cell_type": "code",
   "execution_count": 1,
   "metadata": {},
   "outputs": [
    {
     "name": "stdout",
     "output_type": "stream",
     "text": [
      "hello world\n"
     ]
    }
   ],
   "source": [
    "print('hello world')"
   ]
  },
  {
   "cell_type": "code",
   "execution_count": 2,
   "metadata": {},
   "outputs": [
    {
     "name": "stdout",
     "output_type": "stream",
     "text": [
      "hello,word!"
     ]
    }
   ],
   "source": [
    "print('hello','word',sep=',',end = '!')"
   ]
  },
  {
   "cell_type": "code",
   "execution_count": 3,
   "metadata": {},
   "outputs": [
    {
     "name": "stdout",
     "output_type": "stream",
     "text": [
      "hello word\n"
     ]
    }
   ],
   "source": [
    "print('hello','word')"
   ]
  },
  {
   "cell_type": "code",
   "execution_count": 4,
   "metadata": {},
   "outputs": [
    {
     "name": "stdout",
     "output_type": "stream",
     "text": [
      "Help on built-in function print in module builtins:\n",
      "\n",
      "print(...)\n",
      "    print(value, ..., sep=' ', end='\\n', file=sys.stdout, flush=False)\n",
      "    \n",
      "    Prints the values to a stream, or to sys.stdout by default.\n",
      "    Optional keyword arguments:\n",
      "    file:  a file-like object (stream); defaults to the current sys.stdout.\n",
      "    sep:   string inserted between values, default a space.\n",
      "    end:   string appended after the last value, default a newline.\n",
      "    flush: whether to forcibly flush the stream.\n",
      "\n"
     ]
    }
   ],
   "source": [
    "help('print')"
   ]
  },
  {
   "cell_type": "code",
   "execution_count": 5,
   "metadata": {},
   "outputs": [
    {
     "name": "stdout",
     "output_type": "stream",
     "text": [
      "good bye,world!\n"
     ]
    }
   ],
   "source": [
    "print('good bye,world', end = '!\\n')"
   ]
  },
  {
   "cell_type": "code",
   "execution_count": 18,
   "metadata": {},
   "outputs": [],
   "source": [
    "import turtle\n",
    "turtle.pensize(4)\n",
    "turtle.pencolor('red')\n",
    "turtle.forward(100)\n",
    "turtle.right(50)\n",
    "turtle.mainloop()"
   ]
  },
  {
   "cell_type": "code",
   "execution_count": 16,
   "metadata": {},
   "outputs": [
    {
     "name": "stdout",
     "output_type": "stream",
     "text": [
      "444\n",
      "198\n",
      "39483\n",
      "2.6097560975609757\n",
      "2\n",
      "75\n"
     ]
    }
   ],
   "source": [
    "\"\"\"\n",
    "使用变量保存数据,并进行运算\n",
    "version 0.1\n",
    "\n",
    "Author:gao\n",
    "\"\"\"\n",
    "a = 321#不用写成 int a = 421而是 a = 23\n",
    "b = 123\n",
    "print(a + b)#要写成a = n 而不是 a=b\n",
    "print(a - b)\n",
    "print(a * b)\n",
    "print(a / b)\n",
    "print(a // b)\n",
    "print(a % b)"
   ]
  },
  {
   "cell_type": "code",
   "execution_count": 22,
   "metadata": {},
   "outputs": [
    {
     "name": "stdout",
     "output_type": "stream",
     "text": [
      "a = 12\n",
      "b = 21\n",
      "12 + 21 = 33\n"
     ]
    }
   ],
   "source": [
    "\"\"\"\n",
    "使用input 获取键盘输入\n",
    "利用 int 进行强制转换\n",
    "用%占位\n",
    "\n",
    "date:2019.7.14\n",
    "Author: gao\n",
    "\"\"\"\n",
    "a = int(input('a = '))\n",
    "b = int(input('b = '))\n",
    "print('%d + %d = %d' %(a, b, a + b))#引号后面没有逗号, 有%, 逗号后面要有空格, 运算法前后也要有空格"
   ]
  },
  {
   "cell_type": "code",
   "execution_count": 25,
   "metadata": {},
   "outputs": [
    {
     "name": "stdout",
     "output_type": "stream",
     "text": [
      "<class 'int'>\n",
      "<class 'float'>\n",
      "<class 'complex'>\n",
      "<class 'bool'>\n",
      "<class 'str'>\n"
     ]
    }
   ],
   "source": [
    "\"\"\"\n",
    "使用type()检查变量的类型\n",
    "\n",
    "\n",
    " version 0.1\n",
    "\"\"\"\n",
    "a = 100\n",
    "b = 1.234\n",
    "c = 1 + 2j\n",
    "d = True #是true 不是其他的\n",
    "f = 'hello world'\n",
    "print(type(a))# 直接使用, 不用导入, 因为这是内置的函数\n",
    "print(type(b))\n",
    "print(type(c))\n",
    "print(type(d))\n",
    "print(type(f))"
   ]
  },
  {
   "cell_type": "code",
   "execution_count": 30,
   "metadata": {},
   "outputs": [
    {
     "name": "stdout",
     "output_type": "stream",
     "text": [
      "a = 8\n",
      "a = 2\n",
      "a = 16\n",
      "a = 8\n",
      "flage1 =  False\n",
      "flage2 =  True\n",
      "flage3 =  False\n",
      "flage4 =  True\n",
      "flage5 =  True\n"
     ]
    }
   ],
   "source": [
    "\"\"\"\n",
    "运算符的使用\n",
    "\"\"\"\n",
    "a = 5\n",
    "b = 3\n",
    "c = 6\n",
    "d = 8\n",
    "f = 2\n",
    "a += b\n",
    "print('a = %d' %(a))\n",
    "a -= c\n",
    "print('a = %d' %(a))\n",
    "a *= d\n",
    "print('a = %d' %(a))\n",
    "a /= f\n",
    "print('a = %d' %(a))\n",
    "flage1 = 3 > 4\n",
    "flage2 = 2 < 5\n",
    "flage3 = flage1 and flage2\n",
    "flage4 = flage1 or flage2\n",
    "flage5 = not flage1\n",
    "print('flage1 = ', flage1)#这个地方有逗号哎!\n",
    "print('flage2 = ', flage2)\n",
    "print('flage3 = ', flage3)\n",
    "print('flage4 = ', flage4)\n",
    "print('flage5 = ', flage5)"
   ]
  },
  {
   "cell_type": "code",
   "execution_count": 33,
   "metadata": {},
   "outputs": [
    {
     "name": "stdout",
     "output_type": "stream",
     "text": [
      "请输入华氏温度: \n",
      "100\n",
      "摄氏度是37.8\n"
     ]
    }
   ],
   "source": [
    "\"\"\"\n",
    "将华氏温度转化为摄氏度\n",
    "f = 1.8c + 32 (f是华氏温度)\n",
    "\n",
    "\n",
    "\"\"\"\n",
    "#q: 一个变量使用之前需要定义吗? A: 没有定义,都是直接使用的\n",
    "f = float(input('请输入华氏温度: \\n'))\n",
    "print('摄氏度是%.1f' %((f - 32)/1.8))"
   ]
  },
  {
   "cell_type": "code",
   "execution_count": null,
   "metadata": {},
   "outputs": [],
   "source": []
  }
 ],
 "metadata": {
  "kernelspec": {
   "display_name": "Python 3",
   "language": "python",
   "name": "python3"
  }
 },
 "nbformat": 4,
 "nbformat_minor": 2
}
