{
 "cells": [
  {
   "cell_type": "code",
   "execution_count": 3,
   "metadata": {},
   "outputs": [
    {
     "name": "stdout",
     "output_type": "stream",
     "text": [
      "5050\n"
     ]
    }
   ],
   "source": [
    "'''\n",
    "用for循环 计算1-100的和\n",
    "'''\n",
    "sum = 0\n",
    "for x in range(101):\n",
    "    sum += x\n",
    "    \n",
    "print(sum)\n",
    "#关于range()\n",
    "help(range)"
   ]
  },
  {
   "cell_type": "code",
   "execution_count": 5,
   "metadata": {},
   "outputs": [
    {
     "name": "stdout",
     "output_type": "stream",
     "text": [
      "2550\n"
     ]
    }
   ],
   "source": [
    "'''\n",
    "用 for循环 求100以内偶数的和\n",
    "'''\n",
    "sum = 0\n",
    "\n",
    "for x in range(2,101,2):\n",
    "    sum += x\n",
    "    \n",
    "print(sum)"
   ]
  },
  {
   "cell_type": "code",
   "execution_count": 1,
   "metadata": {},
   "outputs": [
    {
     "name": "stdout",
     "output_type": "stream",
     "text": [
      "请猜一下数字:50\n",
      "猜小了\n",
      "请猜一下数字:75\n",
      "猜大了\n",
      "请猜一下数字:60\n",
      "猜小了\n",
      "请猜一下数字:70\n",
      "猜大了\n",
      "请猜一下数字:65\n",
      "猜小了\n",
      "请猜一下数字:67\n",
      "猜小了\n",
      "请猜一下数字:68\n",
      "bingo!68\n",
      "你总共猜了7次\n"
     ]
    }
   ],
   "source": [
    "'''\n",
    "while 循环,什么时候用while循环呢? 不知道循环多少次的时候\n",
    "\n",
    "猜数游戏:\n",
    "随机生成1-100的数字,由人来猜\n",
    "要提醒是猜大了,还是猜小了\n",
    "'''\n",
    "\n",
    "import random\n",
    "result =random.randint(1,100)\n",
    "counter = 0\n",
    "while True:\n",
    "    counter += 1\n",
    "    number = int(input('请猜一下数字:'))\n",
    "    if number > result:\n",
    "        print('猜大了')\n",
    "    elif number < result:\n",
    "        print('猜小了')\n",
    "    else:\n",
    "        print('bingo!%d' %result)\n",
    "        break\n",
    "print('你总共猜了%d次' %counter)\n",
    "\n",
    "\n"
   ]
  },
  {
   "cell_type": "code",
   "execution_count": null,
   "metadata": {},
   "outputs": [],
   "source": []
  }
 ],
 "metadata": {
  "kernelspec": {
   "display_name": "Python 3",
   "language": "python",
   "name": "python3"
  },
  "language_info": {
   "codemirror_mode": {
    "name": "ipython",
    "version": 3
   },
   "file_extension": ".py",
   "mimetype": "text/x-python",
   "name": "python",
   "nbconvert_exporter": "python",
   "pygments_lexer": "ipython3",
   "version": "3.7.0"
  }
 },
 "nbformat": 4,
 "nbformat_minor": 2
}
